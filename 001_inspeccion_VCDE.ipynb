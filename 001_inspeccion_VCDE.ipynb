{
 "cells": [
  {
   "cell_type": "markdown",
   "metadata": {},
   "source": [
    "# Inspección del Dataset VCDE\n",
    "\n",
    "## Conjunto de datos a utilizar\n",
    "El objetivo notebook es realizar una inspección preliminar del dataset que fue creado en la práctica 1 por los mismos alumnos del máster. El dataset se denomina Valores Climatológicos Diarios de España, VCDE. Para esta práctica nos hemos quedado con los valores climatológicos diarios de España procedentes del sistema AEMET OpenData. [AEMET OpenData](https://opendata.aemet.es)\n",
    "\n",
    "## Cargado de datos\n",
    "Cargaremos los datos procedentes de `data/VCDE_.csv` para que podamos leerlo."
   ]
  },
  {
   "cell_type": "code",
   "execution_count": 35,
   "metadata": {},
   "outputs": [],
   "source": [
    "import numpy as np\n",
    "import pandas as pd\n",
    "\n",
    "df = pd.read_csv('data/VCDE.csv')"
   ]
  },
  {
   "cell_type": "markdown",
   "metadata": {},
   "source": [
    "## Manipulación como dataframe de panda\n",
    "### Comprobación de si el dataframe está vacío"
   ]
  },
  {
   "cell_type": "code",
   "execution_count": 36,
   "metadata": {},
   "outputs": [
    {
     "data": {
      "text/plain": [
       "False"
      ]
     },
     "execution_count": 36,
     "metadata": {},
     "output_type": "execute_result"
    }
   ],
   "source": [
    "df.empty"
   ]
  },
  {
   "cell_type": "markdown",
   "metadata": {},
   "source": [
    "### Dimensión del dataframe"
   ]
  },
  {
   "cell_type": "code",
   "execution_count": 37,
   "metadata": {},
   "outputs": [
    {
     "data": {
      "text/plain": [
       "(3090418, 20)"
      ]
     },
     "execution_count": 37,
     "metadata": {},
     "output_type": "execute_result"
    }
   ],
   "source": [
    "df.shape"
   ]
  },
  {
   "cell_type": "markdown",
   "metadata": {},
   "source": [
    "### Número de columnas\n",
    "Sabemos que el VCDE.csv tiene 20 columnas, pero no sabemos sus nombres. Se puede obtener mediante el atributo `columns`:"
   ]
  },
  {
   "cell_type": "code",
   "execution_count": 38,
   "metadata": {},
   "outputs": [
    {
     "data": {
      "text/plain": [
       "Index(['fecha', 'indicativo', 'nombre', 'provincia', 'altitud', 'tmed', 'prec',\n",
       "       'tmin', 'horatmin', 'tmax', 'horatmax', 'dir', 'velmedia', 'racha',\n",
       "       'horaracha', 'sol', 'presmax', 'horapresmax', 'presmin', 'horapresmin'],\n",
       "      dtype='object')"
      ]
     },
     "execution_count": 38,
     "metadata": {},
     "output_type": "execute_result"
    }
   ],
   "source": [
    "df.columns"
   ]
  },
  {
   "cell_type": "markdown",
   "metadata": {
    "tags": []
   },
   "source": [
    "### Muestra de los datos\n",
    "Veamos las filas desde el comienzo con `head()`:"
   ]
  },
  {
   "cell_type": "code",
   "execution_count": 39,
   "metadata": {},
   "outputs": [
    {
     "data": {
      "text/html": [
       "<div>\n",
       "<style scoped>\n",
       "    .dataframe tbody tr th:only-of-type {\n",
       "        vertical-align: middle;\n",
       "    }\n",
       "\n",
       "    .dataframe tbody tr th {\n",
       "        vertical-align: top;\n",
       "    }\n",
       "\n",
       "    .dataframe thead th {\n",
       "        text-align: right;\n",
       "    }\n",
       "</style>\n",
       "<table border=\"1\" class=\"dataframe\">\n",
       "  <thead>\n",
       "    <tr style=\"text-align: right;\">\n",
       "      <th></th>\n",
       "      <th>fecha</th>\n",
       "      <th>indicativo</th>\n",
       "      <th>nombre</th>\n",
       "      <th>provincia</th>\n",
       "      <th>altitud</th>\n",
       "      <th>tmed</th>\n",
       "      <th>prec</th>\n",
       "      <th>tmin</th>\n",
       "      <th>horatmin</th>\n",
       "      <th>tmax</th>\n",
       "      <th>horatmax</th>\n",
       "      <th>dir</th>\n",
       "      <th>velmedia</th>\n",
       "      <th>racha</th>\n",
       "      <th>horaracha</th>\n",
       "      <th>sol</th>\n",
       "      <th>presmax</th>\n",
       "      <th>horapresmax</th>\n",
       "      <th>presmin</th>\n",
       "      <th>horapresmin</th>\n",
       "    </tr>\n",
       "  </thead>\n",
       "  <tbody>\n",
       "    <tr>\n",
       "      <th>0</th>\n",
       "      <td>2021-01-01</td>\n",
       "      <td>0252D</td>\n",
       "      <td>ARENYS DE MAR</td>\n",
       "      <td>BARCELONA</td>\n",
       "      <td>74</td>\n",
       "      <td>7,6</td>\n",
       "      <td>0,0</td>\n",
       "      <td>4,6</td>\n",
       "      <td>Varias</td>\n",
       "      <td>10,6</td>\n",
       "      <td>13:00</td>\n",
       "      <td>NE</td>\n",
       "      <td>0,8</td>\n",
       "      <td>6,9</td>\n",
       "      <td>08:10</td>\n",
       "      <td>NaN</td>\n",
       "      <td>NaN</td>\n",
       "      <td>NaN</td>\n",
       "      <td>NaN</td>\n",
       "      <td>NaN</td>\n",
       "    </tr>\n",
       "    <tr>\n",
       "      <th>1</th>\n",
       "      <td>2021-01-02</td>\n",
       "      <td>0252D</td>\n",
       "      <td>ARENYS DE MAR</td>\n",
       "      <td>BARCELONA</td>\n",
       "      <td>74</td>\n",
       "      <td>7,3</td>\n",
       "      <td>0,0</td>\n",
       "      <td>3,5</td>\n",
       "      <td>05:40</td>\n",
       "      <td>11,1</td>\n",
       "      <td>11:40</td>\n",
       "      <td>NE</td>\n",
       "      <td>1,1</td>\n",
       "      <td>4,7</td>\n",
       "      <td>22:30</td>\n",
       "      <td>NaN</td>\n",
       "      <td>NaN</td>\n",
       "      <td>NaN</td>\n",
       "      <td>NaN</td>\n",
       "      <td>NaN</td>\n",
       "    </tr>\n",
       "    <tr>\n",
       "      <th>2</th>\n",
       "      <td>2021-01-03</td>\n",
       "      <td>0252D</td>\n",
       "      <td>ARENYS DE MAR</td>\n",
       "      <td>BARCELONA</td>\n",
       "      <td>74</td>\n",
       "      <td>6,3</td>\n",
       "      <td>0,0</td>\n",
       "      <td>2,0</td>\n",
       "      <td>08:20</td>\n",
       "      <td>10,6</td>\n",
       "      <td>12:40</td>\n",
       "      <td>NNE</td>\n",
       "      <td>1,9</td>\n",
       "      <td>5,0</td>\n",
       "      <td>20:10</td>\n",
       "      <td>NaN</td>\n",
       "      <td>NaN</td>\n",
       "      <td>NaN</td>\n",
       "      <td>NaN</td>\n",
       "      <td>NaN</td>\n",
       "    </tr>\n",
       "    <tr>\n",
       "      <th>3</th>\n",
       "      <td>2021-01-04</td>\n",
       "      <td>0252D</td>\n",
       "      <td>ARENYS DE MAR</td>\n",
       "      <td>BARCELONA</td>\n",
       "      <td>74</td>\n",
       "      <td>6,4</td>\n",
       "      <td>0,0</td>\n",
       "      <td>1,5</td>\n",
       "      <td>04:00</td>\n",
       "      <td>11,2</td>\n",
       "      <td>11:20</td>\n",
       "      <td>NNE</td>\n",
       "      <td>1,1</td>\n",
       "      <td>7,2</td>\n",
       "      <td>06:10</td>\n",
       "      <td>NaN</td>\n",
       "      <td>NaN</td>\n",
       "      <td>NaN</td>\n",
       "      <td>NaN</td>\n",
       "      <td>NaN</td>\n",
       "    </tr>\n",
       "    <tr>\n",
       "      <th>4</th>\n",
       "      <td>2021-01-05</td>\n",
       "      <td>0252D</td>\n",
       "      <td>ARENYS DE MAR</td>\n",
       "      <td>BARCELONA</td>\n",
       "      <td>74</td>\n",
       "      <td>6,6</td>\n",
       "      <td>0,3</td>\n",
       "      <td>1,7</td>\n",
       "      <td>23:20</td>\n",
       "      <td>11,4</td>\n",
       "      <td>12:20</td>\n",
       "      <td>NNE</td>\n",
       "      <td>1,4</td>\n",
       "      <td>5,0</td>\n",
       "      <td>11:10</td>\n",
       "      <td>NaN</td>\n",
       "      <td>NaN</td>\n",
       "      <td>NaN</td>\n",
       "      <td>NaN</td>\n",
       "      <td>NaN</td>\n",
       "    </tr>\n",
       "  </tbody>\n",
       "</table>\n",
       "</div>"
      ],
      "text/plain": [
       "        fecha indicativo         nombre  provincia  altitud tmed prec tmin  \\\n",
       "0  2021-01-01      0252D  ARENYS DE MAR  BARCELONA       74  7,6  0,0  4,6   \n",
       "1  2021-01-02      0252D  ARENYS DE MAR  BARCELONA       74  7,3  0,0  3,5   \n",
       "2  2021-01-03      0252D  ARENYS DE MAR  BARCELONA       74  6,3  0,0  2,0   \n",
       "3  2021-01-04      0252D  ARENYS DE MAR  BARCELONA       74  6,4  0,0  1,5   \n",
       "4  2021-01-05      0252D  ARENYS DE MAR  BARCELONA       74  6,6  0,3  1,7   \n",
       "\n",
       "  horatmin  tmax horatmax  dir velmedia racha horaracha  sol  presmax  \\\n",
       "0   Varias  10,6    13:00   NE      0,8   6,9     08:10  NaN      NaN   \n",
       "1    05:40  11,1    11:40   NE      1,1   4,7     22:30  NaN      NaN   \n",
       "2    08:20  10,6    12:40  NNE      1,9   5,0     20:10  NaN      NaN   \n",
       "3    04:00  11,2    11:20  NNE      1,1   7,2     06:10  NaN      NaN   \n",
       "4    23:20  11,4    12:20  NNE      1,4   5,0     11:10  NaN      NaN   \n",
       "\n",
       "   horapresmax  presmin  horapresmin  \n",
       "0          NaN      NaN          NaN  \n",
       "1          NaN      NaN          NaN  \n",
       "2          NaN      NaN          NaN  \n",
       "3          NaN      NaN          NaN  \n",
       "4          NaN      NaN          NaN  "
      ]
     },
     "execution_count": 39,
     "metadata": {},
     "output_type": "execute_result"
    }
   ],
   "source": [
    "df.head()"
   ]
  },
  {
   "cell_type": "markdown",
   "metadata": {},
   "source": [
    "Veremos el contenido del final con `tail()`. En particular, dos filas"
   ]
  },
  {
   "cell_type": "code",
   "execution_count": 40,
   "metadata": {},
   "outputs": [
    {
     "data": {
      "text/html": [
       "<div>\n",
       "<style scoped>\n",
       "    .dataframe tbody tr th:only-of-type {\n",
       "        vertical-align: middle;\n",
       "    }\n",
       "\n",
       "    .dataframe tbody tr th {\n",
       "        vertical-align: top;\n",
       "    }\n",
       "\n",
       "    .dataframe thead th {\n",
       "        text-align: right;\n",
       "    }\n",
       "</style>\n",
       "<table border=\"1\" class=\"dataframe\">\n",
       "  <thead>\n",
       "    <tr style=\"text-align: right;\">\n",
       "      <th></th>\n",
       "      <th>fecha</th>\n",
       "      <th>indicativo</th>\n",
       "      <th>nombre</th>\n",
       "      <th>provincia</th>\n",
       "      <th>altitud</th>\n",
       "      <th>tmed</th>\n",
       "      <th>prec</th>\n",
       "      <th>tmin</th>\n",
       "      <th>horatmin</th>\n",
       "      <th>tmax</th>\n",
       "      <th>horatmax</th>\n",
       "      <th>dir</th>\n",
       "      <th>velmedia</th>\n",
       "      <th>racha</th>\n",
       "      <th>horaracha</th>\n",
       "      <th>sol</th>\n",
       "      <th>presmax</th>\n",
       "      <th>horapresmax</th>\n",
       "      <th>presmin</th>\n",
       "      <th>horapresmin</th>\n",
       "    </tr>\n",
       "  </thead>\n",
       "  <tbody>\n",
       "    <tr>\n",
       "      <th>3090416</th>\n",
       "      <td>1978-12-30</td>\n",
       "      <td>C447A</td>\n",
       "      <td>TENERIFE NORTE AEROPUERTO</td>\n",
       "      <td>STA. CRUZ DE TENERIFE</td>\n",
       "      <td>632</td>\n",
       "      <td>16,1</td>\n",
       "      <td>0,0</td>\n",
       "      <td>12,8</td>\n",
       "      <td>06:30</td>\n",
       "      <td>19,4</td>\n",
       "      <td>12:30</td>\n",
       "      <td>NNE</td>\n",
       "      <td>1,7</td>\n",
       "      <td>6,1</td>\n",
       "      <td>12:45</td>\n",
       "      <td>9,6</td>\n",
       "      <td>NaN</td>\n",
       "      <td>NaN</td>\n",
       "      <td>NaN</td>\n",
       "      <td>NaN</td>\n",
       "    </tr>\n",
       "    <tr>\n",
       "      <th>3090417</th>\n",
       "      <td>1978-12-31</td>\n",
       "      <td>C447A</td>\n",
       "      <td>TENERIFE NORTE AEROPUERTO</td>\n",
       "      <td>STA. CRUZ DE TENERIFE</td>\n",
       "      <td>632</td>\n",
       "      <td>16,3</td>\n",
       "      <td>0,0</td>\n",
       "      <td>13,0</td>\n",
       "      <td>09:00</td>\n",
       "      <td>19,6</td>\n",
       "      <td>13:30</td>\n",
       "      <td>NNE</td>\n",
       "      <td>4,4</td>\n",
       "      <td>8,9</td>\n",
       "      <td>11:40</td>\n",
       "      <td>9,9</td>\n",
       "      <td>NaN</td>\n",
       "      <td>NaN</td>\n",
       "      <td>NaN</td>\n",
       "      <td>NaN</td>\n",
       "    </tr>\n",
       "  </tbody>\n",
       "</table>\n",
       "</div>"
      ],
      "text/plain": [
       "              fecha indicativo                     nombre  \\\n",
       "3090416  1978-12-30      C447A  TENERIFE NORTE AEROPUERTO   \n",
       "3090417  1978-12-31      C447A  TENERIFE NORTE AEROPUERTO   \n",
       "\n",
       "                     provincia  altitud  tmed prec  tmin horatmin  tmax  \\\n",
       "3090416  STA. CRUZ DE TENERIFE      632  16,1  0,0  12,8    06:30  19,4   \n",
       "3090417  STA. CRUZ DE TENERIFE      632  16,3  0,0  13,0    09:00  19,6   \n",
       "\n",
       "        horatmax  dir velmedia racha horaracha  sol  presmax  horapresmax  \\\n",
       "3090416    12:30  NNE      1,7   6,1     12:45  9,6      NaN          NaN   \n",
       "3090417    13:30  NNE      4,4   8,9     11:40  9,9      NaN          NaN   \n",
       "\n",
       "         presmin  horapresmin  \n",
       "3090416      NaN          NaN  \n",
       "3090417      NaN          NaN  "
      ]
     },
     "execution_count": 40,
     "metadata": {},
     "output_type": "execute_result"
    }
   ],
   "source": [
    "df.tail(2)"
   ]
  },
  {
   "cell_type": "code",
   "execution_count": 41,
   "metadata": {},
   "outputs": [
    {
     "data": {
      "text/plain": [
       "fecha           object\n",
       "indicativo      object\n",
       "nombre          object\n",
       "provincia       object\n",
       "altitud          int64\n",
       "tmed            object\n",
       "prec            object\n",
       "tmin            object\n",
       "horatmin        object\n",
       "tmax            object\n",
       "horatmax        object\n",
       "dir             object\n",
       "velmedia        object\n",
       "racha           object\n",
       "horaracha       object\n",
       "sol             object\n",
       "presmax        float64\n",
       "horapresmax    float64\n",
       "presmin        float64\n",
       "horapresmin    float64\n",
       "dtype: object"
      ]
     },
     "execution_count": 41,
     "metadata": {},
     "output_type": "execute_result"
    }
   ],
   "source": [
    "df.dtypes"
   ]
  },
  {
   "cell_type": "markdown",
   "metadata": {
    "tags": []
   },
   "source": [
    "### Más información del VCDE"
   ]
  },
  {
   "cell_type": "code",
   "execution_count": 42,
   "metadata": {},
   "outputs": [
    {
     "name": "stdout",
     "output_type": "stream",
     "text": [
      "<class 'pandas.core.frame.DataFrame'>\n",
      "RangeIndex: 3090418 entries, 0 to 3090417\n",
      "Data columns (total 20 columns):\n",
      " #   Column       Dtype  \n",
      "---  ------       -----  \n",
      " 0   fecha        object \n",
      " 1   indicativo   object \n",
      " 2   nombre       object \n",
      " 3   provincia    object \n",
      " 4   altitud      int64  \n",
      " 5   tmed         object \n",
      " 6   prec         object \n",
      " 7   tmin         object \n",
      " 8   horatmin     object \n",
      " 9   tmax         object \n",
      " 10  horatmax     object \n",
      " 11  dir          object \n",
      " 12  velmedia     object \n",
      " 13  racha        object \n",
      " 14  horaracha    object \n",
      " 15  sol          object \n",
      " 16  presmax      float64\n",
      " 17  horapresmax  float64\n",
      " 18  presmin      float64\n",
      " 19  horapresmin  float64\n",
      "dtypes: float64(4), int64(1), object(15)\n",
      "memory usage: 471.6+ MB\n"
     ]
    }
   ],
   "source": [
    "df.info()"
   ]
  },
  {
   "cell_type": "markdown",
   "metadata": {},
   "source": [
    "## Descripción\n",
    "### Estadísticas de sumario"
   ]
  },
  {
   "cell_type": "code",
   "execution_count": 43,
   "metadata": {},
   "outputs": [
    {
     "data": {
      "text/html": [
       "<div>\n",
       "<style scoped>\n",
       "    .dataframe tbody tr th:only-of-type {\n",
       "        vertical-align: middle;\n",
       "    }\n",
       "\n",
       "    .dataframe tbody tr th {\n",
       "        vertical-align: top;\n",
       "    }\n",
       "\n",
       "    .dataframe thead th {\n",
       "        text-align: right;\n",
       "    }\n",
       "</style>\n",
       "<table border=\"1\" class=\"dataframe\">\n",
       "  <thead>\n",
       "    <tr style=\"text-align: right;\">\n",
       "      <th></th>\n",
       "      <th>altitud</th>\n",
       "      <th>presmax</th>\n",
       "      <th>horapresmax</th>\n",
       "      <th>presmin</th>\n",
       "      <th>horapresmin</th>\n",
       "    </tr>\n",
       "  </thead>\n",
       "  <tbody>\n",
       "    <tr>\n",
       "      <th>count</th>\n",
       "      <td>3.090418e+06</td>\n",
       "      <td>0.0</td>\n",
       "      <td>0.0</td>\n",
       "      <td>0.0</td>\n",
       "      <td>0.0</td>\n",
       "    </tr>\n",
       "    <tr>\n",
       "      <th>mean</th>\n",
       "      <td>4.323069e+02</td>\n",
       "      <td>NaN</td>\n",
       "      <td>NaN</td>\n",
       "      <td>NaN</td>\n",
       "      <td>NaN</td>\n",
       "    </tr>\n",
       "    <tr>\n",
       "      <th>std</th>\n",
       "      <td>4.370447e+02</td>\n",
       "      <td>NaN</td>\n",
       "      <td>NaN</td>\n",
       "      <td>NaN</td>\n",
       "      <td>NaN</td>\n",
       "    </tr>\n",
       "    <tr>\n",
       "      <th>min</th>\n",
       "      <td>1.000000e+00</td>\n",
       "      <td>NaN</td>\n",
       "      <td>NaN</td>\n",
       "      <td>NaN</td>\n",
       "      <td>NaN</td>\n",
       "    </tr>\n",
       "    <tr>\n",
       "      <th>25%</th>\n",
       "      <td>4.800000e+01</td>\n",
       "      <td>NaN</td>\n",
       "      <td>NaN</td>\n",
       "      <td>NaN</td>\n",
       "      <td>NaN</td>\n",
       "    </tr>\n",
       "    <tr>\n",
       "      <th>50%</th>\n",
       "      <td>3.360000e+02</td>\n",
       "      <td>NaN</td>\n",
       "      <td>NaN</td>\n",
       "      <td>NaN</td>\n",
       "      <td>NaN</td>\n",
       "    </tr>\n",
       "    <tr>\n",
       "      <th>75%</th>\n",
       "      <td>6.900000e+02</td>\n",
       "      <td>NaN</td>\n",
       "      <td>NaN</td>\n",
       "      <td>NaN</td>\n",
       "      <td>NaN</td>\n",
       "    </tr>\n",
       "    <tr>\n",
       "      <th>max</th>\n",
       "      <td>2.371000e+03</td>\n",
       "      <td>NaN</td>\n",
       "      <td>NaN</td>\n",
       "      <td>NaN</td>\n",
       "      <td>NaN</td>\n",
       "    </tr>\n",
       "  </tbody>\n",
       "</table>\n",
       "</div>"
      ],
      "text/plain": [
       "            altitud  presmax  horapresmax  presmin  horapresmin\n",
       "count  3.090418e+06      0.0          0.0      0.0          0.0\n",
       "mean   4.323069e+02      NaN          NaN      NaN          NaN\n",
       "std    4.370447e+02      NaN          NaN      NaN          NaN\n",
       "min    1.000000e+00      NaN          NaN      NaN          NaN\n",
       "25%    4.800000e+01      NaN          NaN      NaN          NaN\n",
       "50%    3.360000e+02      NaN          NaN      NaN          NaN\n",
       "75%    6.900000e+02      NaN          NaN      NaN          NaN\n",
       "max    2.371000e+03      NaN          NaN      NaN          NaN"
      ]
     },
     "execution_count": 43,
     "metadata": {},
     "output_type": "execute_result"
    }
   ],
   "source": [
    "df.describe()"
   ]
  },
  {
   "cell_type": "markdown",
   "metadata": {},
   "source": [
    "Cálculo de percentiles 5 y 95:"
   ]
  },
  {
   "cell_type": "code",
   "execution_count": 32,
   "metadata": {},
   "outputs": [
    {
     "data": {
      "text/html": [
       "<div>\n",
       "<style scoped>\n",
       "    .dataframe tbody tr th:only-of-type {\n",
       "        vertical-align: middle;\n",
       "    }\n",
       "\n",
       "    .dataframe tbody tr th {\n",
       "        vertical-align: top;\n",
       "    }\n",
       "\n",
       "    .dataframe thead th {\n",
       "        text-align: right;\n",
       "    }\n",
       "</style>\n",
       "<table border=\"1\" class=\"dataframe\">\n",
       "  <thead>\n",
       "    <tr style=\"text-align: right;\">\n",
       "      <th></th>\n",
       "      <th>altitud</th>\n",
       "      <th>presmax</th>\n",
       "      <th>horapresmax</th>\n",
       "      <th>presmin</th>\n",
       "      <th>horapresmin</th>\n",
       "    </tr>\n",
       "  </thead>\n",
       "  <tbody>\n",
       "    <tr>\n",
       "      <th>count</th>\n",
       "      <td>3.090418e+06</td>\n",
       "      <td>0.0</td>\n",
       "      <td>0.0</td>\n",
       "      <td>0.0</td>\n",
       "      <td>0.0</td>\n",
       "    </tr>\n",
       "    <tr>\n",
       "      <th>mean</th>\n",
       "      <td>4.323069e+02</td>\n",
       "      <td>NaN</td>\n",
       "      <td>NaN</td>\n",
       "      <td>NaN</td>\n",
       "      <td>NaN</td>\n",
       "    </tr>\n",
       "    <tr>\n",
       "      <th>std</th>\n",
       "      <td>4.370447e+02</td>\n",
       "      <td>NaN</td>\n",
       "      <td>NaN</td>\n",
       "      <td>NaN</td>\n",
       "      <td>NaN</td>\n",
       "    </tr>\n",
       "    <tr>\n",
       "      <th>min</th>\n",
       "      <td>1.000000e+00</td>\n",
       "      <td>NaN</td>\n",
       "      <td>NaN</td>\n",
       "      <td>NaN</td>\n",
       "      <td>NaN</td>\n",
       "    </tr>\n",
       "    <tr>\n",
       "      <th>5%</th>\n",
       "      <td>5.000000e+00</td>\n",
       "      <td>NaN</td>\n",
       "      <td>NaN</td>\n",
       "      <td>NaN</td>\n",
       "      <td>NaN</td>\n",
       "    </tr>\n",
       "    <tr>\n",
       "      <th>50%</th>\n",
       "      <td>3.360000e+02</td>\n",
       "      <td>NaN</td>\n",
       "      <td>NaN</td>\n",
       "      <td>NaN</td>\n",
       "      <td>NaN</td>\n",
       "    </tr>\n",
       "    <tr>\n",
       "      <th>95%</th>\n",
       "      <td>1.130000e+03</td>\n",
       "      <td>NaN</td>\n",
       "      <td>NaN</td>\n",
       "      <td>NaN</td>\n",
       "      <td>NaN</td>\n",
       "    </tr>\n",
       "    <tr>\n",
       "      <th>max</th>\n",
       "      <td>2.371000e+03</td>\n",
       "      <td>NaN</td>\n",
       "      <td>NaN</td>\n",
       "      <td>NaN</td>\n",
       "      <td>NaN</td>\n",
       "    </tr>\n",
       "  </tbody>\n",
       "</table>\n",
       "</div>"
      ],
      "text/plain": [
       "            altitud  presmax  horapresmax  presmin  horapresmin\n",
       "count  3.090418e+06      0.0          0.0      0.0          0.0\n",
       "mean   4.323069e+02      NaN          NaN      NaN          NaN\n",
       "std    4.370447e+02      NaN          NaN      NaN          NaN\n",
       "min    1.000000e+00      NaN          NaN      NaN          NaN\n",
       "5%     5.000000e+00      NaN          NaN      NaN          NaN\n",
       "50%    3.360000e+02      NaN          NaN      NaN          NaN\n",
       "95%    1.130000e+03      NaN          NaN      NaN          NaN\n",
       "max    2.371000e+03      NaN          NaN      NaN          NaN"
      ]
     },
     "execution_count": 32,
     "metadata": {},
     "output_type": "execute_result"
    }
   ],
   "source": [
    "df.describe(percentiles=[0.05, 0.95])"
   ]
  }
 ],
 "metadata": {
  "kernelspec": {
   "display_name": "Python 3 (ipykernel)",
   "language": "python",
   "name": "python3"
  },
  "language_info": {
   "codemirror_mode": {
    "name": "ipython",
    "version": 3
   },
   "file_extension": ".py",
   "mimetype": "text/x-python",
   "name": "python",
   "nbconvert_exporter": "python",
   "pygments_lexer": "ipython3",
   "version": "3.10.4"
  }
 },
 "nbformat": 4,
 "nbformat_minor": 4
}
