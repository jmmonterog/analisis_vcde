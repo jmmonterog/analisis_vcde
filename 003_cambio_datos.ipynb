{
 "cells": [
  {
   "cell_type": "markdown",
   "metadata": {},
   "source": [
    "# Adición y eliminación de datos en el Dataset VCDE\n",
    "\n",
    "## Conjunto de datos a utilizar\n",
    "El objetivo notebook es realizar una inspección preliminar del dataset que fue creado en la práctica 1 por los mismos alumnos del máster. El dataset se denomina Valores Climatológicos Diarios de España, VCDE. Para esta práctica nos hemos quedado con los valores climatológicos diarios de España procedentes del sistema AEMET OpenData. [AEMET OpenData](https://opendata.aemet.es)\n",
    "\n",
    "## Cargado de datos\n",
    "Cargaremos los datos procedentes de `data/VCDE_002.csv`, obtenido en el anterior notebook, para que podamos leerlo."
   ]
  },
  {
   "cell_type": "code",
   "execution_count": 1,
   "metadata": {},
   "outputs": [],
   "source": [
    "import pandas as pd\n",
    "import numpy as np\n",
    "\n",
    "df = pd.read_csv(\n",
    "    'data/VCDE_002.csv', sep='|',\n",
    "    usecols=['fecha','indicativo','nombre','provincia','altitud','tmed','prec','tmin','tmax','dir','velmedia','racha']\n",
    ")\n"
   ]
  },
  {
   "cell_type": "markdown",
   "metadata": {},
   "source": [
    "## Conversiones de datos\n",
    "Lo primero que tenemos que hacer es consultar los tipos de datos de las diferentes columnas. :"
   ]
  },
  {
   "cell_type": "code",
   "execution_count": 2,
   "metadata": {},
   "outputs": [
    {
     "data": {
      "text/plain": [
       "fecha         object\n",
       "indicativo    object\n",
       "nombre        object\n",
       "provincia     object\n",
       "altitud        int64\n",
       "tmed          object\n",
       "prec          object\n",
       "tmin          object\n",
       "tmax          object\n",
       "dir           object\n",
       "velmedia      object\n",
       "racha         object\n",
       "dtype: object"
      ]
     },
     "execution_count": 2,
     "metadata": {},
     "output_type": "execute_result"
    }
   ],
   "source": [
    "df.dtypes"
   ]
  },
  {
   "cell_type": "markdown",
   "metadata": {
    "tags": []
   },
   "source": [
    "Además, los valores de variables numéricas tienen como carácter separador de decimales el carácter , en lugar de . Esto puede darnos problemas por lo que vamos a utilizar replace\n",
    "\n",
    "Convertiremos todos los valores que han sido capturados como object a valores float con `.astype(float, errors = 'raise')`\n",
    "\n",
    "El campo precipitación tiene tipo object pero no lo transformaremos a float porque tiene valores Ip (inapreciable) cuando la cantidad de precipitación es inferior a 1 mm.\n",
    "\n"
   ]
  },
  {
   "cell_type": "code",
   "execution_count": 5,
   "metadata": {},
   "outputs": [
    {
     "data": {
      "text/plain": [
       "fecha         datetime64[ns]\n",
       "indicativo            object\n",
       "nombre                object\n",
       "provincia             object\n",
       "altitud                int64\n",
       "tmed                 float64\n",
       "prec                  object\n",
       "tmin                 float64\n",
       "tmax                 float64\n",
       "dir                   object\n",
       "velmedia             float64\n",
       "racha                float64\n",
       "dtype: object"
      ]
     },
     "execution_count": 5,
     "metadata": {},
     "output_type": "execute_result"
    }
   ],
   "source": [
    "\n",
    "df['tmed'] = df['tmed'].str.replace(',','.')\n",
    "df['prec'] = df['prec'].str.replace(',','.')\n",
    "df['tmin'] = df['tmin'].str.replace(',','.')\n",
    "df['tmax'] = df['tmax'].str.replace(',','.')\n",
    "df['velmedia'] = df['velmedia'].str.replace(',','.')\n",
    "df['racha'] = df['racha'].str.replace(',','.')\n",
    "\n",
    "df['fecha'] = df['fecha'].astype('datetime64[ns]', errors = 'raise')\n",
    "df['tmed'] = df['tmed'].astype(float, errors = 'raise')\n",
    "#df['prec'] = df['prec'].astype(float, errors = 'raise')\n",
    "df['tmin'] = df['tmin'].astype(float, errors = 'raise')\n",
    "df['tmax'] = df['tmax'].astype(float, errors = 'raise')\n",
    "df['velmedia'] = df['velmedia'].astype(float, errors = 'raise')\n",
    "df['racha'] = df['racha'].astype(float, errors = 'raise')\n",
    "\n",
    "\n",
    "df.dtypes\n",
    "\n",
    "\n"
   ]
  },
  {
   "cell_type": "markdown",
   "metadata": {},
   "source": [
    "### Más información del VCDE\n",
    "Después de haber realizado los cambios de tipos de datos anteriores, el conjunto de datos queda de esta forma, para ello, utilizamos `df.info()`:\n"
   ]
  },
  {
   "cell_type": "code",
   "execution_count": 6,
   "metadata": {},
   "outputs": [
    {
     "name": "stdout",
     "output_type": "stream",
     "text": [
      "<class 'pandas.core.frame.DataFrame'>\n",
      "RangeIndex: 3090418 entries, 0 to 3090417\n",
      "Data columns (total 12 columns):\n",
      " #   Column      Dtype         \n",
      "---  ------      -----         \n",
      " 0   fecha       datetime64[ns]\n",
      " 1   indicativo  object        \n",
      " 2   nombre      object        \n",
      " 3   provincia   object        \n",
      " 4   altitud     int64         \n",
      " 5   tmed        float64       \n",
      " 6   prec        object        \n",
      " 7   tmin        float64       \n",
      " 8   tmax        float64       \n",
      " 9   dir         object        \n",
      " 10  velmedia    float64       \n",
      " 11  racha       float64       \n",
      "dtypes: datetime64[ns](1), float64(5), int64(1), object(5)\n",
      "memory usage: 282.9+ MB\n"
     ]
    }
   ],
   "source": [
    "df.info()"
   ]
  },
  {
   "cell_type": "markdown",
   "metadata": {
    "tags": []
   },
   "source": [
    "## Descripción\n",
    "### Estadísticas de sumario"
   ]
  },
  {
   "cell_type": "code",
   "execution_count": 7,
   "metadata": {},
   "outputs": [
    {
     "data": {
      "text/html": [
       "<div>\n",
       "<style scoped>\n",
       "    .dataframe tbody tr th:only-of-type {\n",
       "        vertical-align: middle;\n",
       "    }\n",
       "\n",
       "    .dataframe tbody tr th {\n",
       "        vertical-align: top;\n",
       "    }\n",
       "\n",
       "    .dataframe thead th {\n",
       "        text-align: right;\n",
       "    }\n",
       "</style>\n",
       "<table border=\"1\" class=\"dataframe\">\n",
       "  <thead>\n",
       "    <tr style=\"text-align: right;\">\n",
       "      <th></th>\n",
       "      <th>altitud</th>\n",
       "      <th>tmed</th>\n",
       "      <th>tmin</th>\n",
       "      <th>tmax</th>\n",
       "      <th>velmedia</th>\n",
       "      <th>racha</th>\n",
       "    </tr>\n",
       "  </thead>\n",
       "  <tbody>\n",
       "    <tr>\n",
       "      <th>count</th>\n",
       "      <td>3.090418e+06</td>\n",
       "      <td>3.090418e+06</td>\n",
       "      <td>2.952854e+06</td>\n",
       "      <td>2.952449e+06</td>\n",
       "      <td>2.788069e+06</td>\n",
       "      <td>2.608458e+06</td>\n",
       "    </tr>\n",
       "    <tr>\n",
       "      <th>mean</th>\n",
       "      <td>4.323069e+02</td>\n",
       "      <td>1.498196e+01</td>\n",
       "      <td>9.985878e+00</td>\n",
       "      <td>2.032916e+01</td>\n",
       "      <td>3.115722e+00</td>\n",
       "      <td>1.005783e+01</td>\n",
       "    </tr>\n",
       "    <tr>\n",
       "      <th>std</th>\n",
       "      <td>4.370447e+02</td>\n",
       "      <td>7.006868e+00</td>\n",
       "      <td>6.809937e+00</td>\n",
       "      <td>7.828495e+00</td>\n",
       "      <td>2.256712e+00</td>\n",
       "      <td>4.344823e+00</td>\n",
       "    </tr>\n",
       "    <tr>\n",
       "      <th>min</th>\n",
       "      <td>1.000000e+00</td>\n",
       "      <td>-1.680000e+01</td>\n",
       "      <td>-2.520000e+01</td>\n",
       "      <td>-1.160000e+01</td>\n",
       "      <td>0.000000e+00</td>\n",
       "      <td>0.000000e+00</td>\n",
       "    </tr>\n",
       "    <tr>\n",
       "      <th>25%</th>\n",
       "      <td>4.800000e+01</td>\n",
       "      <td>9.800000e+00</td>\n",
       "      <td>5.000000e+00</td>\n",
       "      <td>1.460000e+01</td>\n",
       "      <td>1.700000e+00</td>\n",
       "      <td>7.200000e+00</td>\n",
       "    </tr>\n",
       "    <tr>\n",
       "      <th>50%</th>\n",
       "      <td>3.360000e+02</td>\n",
       "      <td>1.500000e+01</td>\n",
       "      <td>1.010000e+01</td>\n",
       "      <td>2.010000e+01</td>\n",
       "      <td>2.500000e+00</td>\n",
       "      <td>9.200000e+00</td>\n",
       "    </tr>\n",
       "    <tr>\n",
       "      <th>75%</th>\n",
       "      <td>6.900000e+02</td>\n",
       "      <td>2.040000e+01</td>\n",
       "      <td>1.520000e+01</td>\n",
       "      <td>2.600000e+01</td>\n",
       "      <td>3.900000e+00</td>\n",
       "      <td>1.220000e+01</td>\n",
       "    </tr>\n",
       "    <tr>\n",
       "      <th>max</th>\n",
       "      <td>2.371000e+03</td>\n",
       "      <td>3.740000e+01</td>\n",
       "      <td>3.320000e+01</td>\n",
       "      <td>4.700000e+01</td>\n",
       "      <td>4.330000e+01</td>\n",
       "      <td>6.890000e+01</td>\n",
       "    </tr>\n",
       "  </tbody>\n",
       "</table>\n",
       "</div>"
      ],
      "text/plain": [
       "            altitud          tmed          tmin          tmax      velmedia  \\\n",
       "count  3.090418e+06  3.090418e+06  2.952854e+06  2.952449e+06  2.788069e+06   \n",
       "mean   4.323069e+02  1.498196e+01  9.985878e+00  2.032916e+01  3.115722e+00   \n",
       "std    4.370447e+02  7.006868e+00  6.809937e+00  7.828495e+00  2.256712e+00   \n",
       "min    1.000000e+00 -1.680000e+01 -2.520000e+01 -1.160000e+01  0.000000e+00   \n",
       "25%    4.800000e+01  9.800000e+00  5.000000e+00  1.460000e+01  1.700000e+00   \n",
       "50%    3.360000e+02  1.500000e+01  1.010000e+01  2.010000e+01  2.500000e+00   \n",
       "75%    6.900000e+02  2.040000e+01  1.520000e+01  2.600000e+01  3.900000e+00   \n",
       "max    2.371000e+03  3.740000e+01  3.320000e+01  4.700000e+01  4.330000e+01   \n",
       "\n",
       "              racha  \n",
       "count  2.608458e+06  \n",
       "mean   1.005783e+01  \n",
       "std    4.344823e+00  \n",
       "min    0.000000e+00  \n",
       "25%    7.200000e+00  \n",
       "50%    9.200000e+00  \n",
       "75%    1.220000e+01  \n",
       "max    6.890000e+01  "
      ]
     },
     "execution_count": 7,
     "metadata": {},
     "output_type": "execute_result"
    }
   ],
   "source": [
    "df.describe()"
   ]
  },
  {
   "cell_type": "markdown",
   "metadata": {
    "tags": []
   },
   "source": [
    "Calculamos percentiles\n"
   ]
  },
  {
   "cell_type": "code",
   "execution_count": 8,
   "metadata": {},
   "outputs": [
    {
     "data": {
      "text/html": [
       "<div>\n",
       "<style scoped>\n",
       "    .dataframe tbody tr th:only-of-type {\n",
       "        vertical-align: middle;\n",
       "    }\n",
       "\n",
       "    .dataframe tbody tr th {\n",
       "        vertical-align: top;\n",
       "    }\n",
       "\n",
       "    .dataframe thead th {\n",
       "        text-align: right;\n",
       "    }\n",
       "</style>\n",
       "<table border=\"1\" class=\"dataframe\">\n",
       "  <thead>\n",
       "    <tr style=\"text-align: right;\">\n",
       "      <th></th>\n",
       "      <th>altitud</th>\n",
       "      <th>tmed</th>\n",
       "      <th>tmin</th>\n",
       "      <th>tmax</th>\n",
       "      <th>velmedia</th>\n",
       "      <th>racha</th>\n",
       "    </tr>\n",
       "  </thead>\n",
       "  <tbody>\n",
       "    <tr>\n",
       "      <th>count</th>\n",
       "      <td>3.090418e+06</td>\n",
       "      <td>3.090418e+06</td>\n",
       "      <td>2.952854e+06</td>\n",
       "      <td>2.952449e+06</td>\n",
       "      <td>2.788069e+06</td>\n",
       "      <td>2.608458e+06</td>\n",
       "    </tr>\n",
       "    <tr>\n",
       "      <th>mean</th>\n",
       "      <td>4.323069e+02</td>\n",
       "      <td>1.498196e+01</td>\n",
       "      <td>9.985878e+00</td>\n",
       "      <td>2.032916e+01</td>\n",
       "      <td>3.115722e+00</td>\n",
       "      <td>1.005783e+01</td>\n",
       "    </tr>\n",
       "    <tr>\n",
       "      <th>std</th>\n",
       "      <td>4.370447e+02</td>\n",
       "      <td>7.006868e+00</td>\n",
       "      <td>6.809937e+00</td>\n",
       "      <td>7.828495e+00</td>\n",
       "      <td>2.256712e+00</td>\n",
       "      <td>4.344823e+00</td>\n",
       "    </tr>\n",
       "    <tr>\n",
       "      <th>min</th>\n",
       "      <td>1.000000e+00</td>\n",
       "      <td>-1.680000e+01</td>\n",
       "      <td>-2.520000e+01</td>\n",
       "      <td>-1.160000e+01</td>\n",
       "      <td>0.000000e+00</td>\n",
       "      <td>0.000000e+00</td>\n",
       "    </tr>\n",
       "    <tr>\n",
       "      <th>5%</th>\n",
       "      <td>5.000000e+00</td>\n",
       "      <td>3.600000e+00</td>\n",
       "      <td>-1.400000e+00</td>\n",
       "      <td>8.000000e+00</td>\n",
       "      <td>6.000000e-01</td>\n",
       "      <td>4.400000e+00</td>\n",
       "    </tr>\n",
       "    <tr>\n",
       "      <th>50%</th>\n",
       "      <td>3.360000e+02</td>\n",
       "      <td>1.500000e+01</td>\n",
       "      <td>1.010000e+01</td>\n",
       "      <td>2.010000e+01</td>\n",
       "      <td>2.500000e+00</td>\n",
       "      <td>9.200000e+00</td>\n",
       "    </tr>\n",
       "    <tr>\n",
       "      <th>95%</th>\n",
       "      <td>1.130000e+03</td>\n",
       "      <td>2.620000e+01</td>\n",
       "      <td>2.080000e+01</td>\n",
       "      <td>3.350000e+01</td>\n",
       "      <td>7.500000e+00</td>\n",
       "      <td>1.830000e+01</td>\n",
       "    </tr>\n",
       "    <tr>\n",
       "      <th>max</th>\n",
       "      <td>2.371000e+03</td>\n",
       "      <td>3.740000e+01</td>\n",
       "      <td>3.320000e+01</td>\n",
       "      <td>4.700000e+01</td>\n",
       "      <td>4.330000e+01</td>\n",
       "      <td>6.890000e+01</td>\n",
       "    </tr>\n",
       "  </tbody>\n",
       "</table>\n",
       "</div>"
      ],
      "text/plain": [
       "            altitud          tmed          tmin          tmax      velmedia  \\\n",
       "count  3.090418e+06  3.090418e+06  2.952854e+06  2.952449e+06  2.788069e+06   \n",
       "mean   4.323069e+02  1.498196e+01  9.985878e+00  2.032916e+01  3.115722e+00   \n",
       "std    4.370447e+02  7.006868e+00  6.809937e+00  7.828495e+00  2.256712e+00   \n",
       "min    1.000000e+00 -1.680000e+01 -2.520000e+01 -1.160000e+01  0.000000e+00   \n",
       "5%     5.000000e+00  3.600000e+00 -1.400000e+00  8.000000e+00  6.000000e-01   \n",
       "50%    3.360000e+02  1.500000e+01  1.010000e+01  2.010000e+01  2.500000e+00   \n",
       "95%    1.130000e+03  2.620000e+01  2.080000e+01  3.350000e+01  7.500000e+00   \n",
       "max    2.371000e+03  3.740000e+01  3.320000e+01  4.700000e+01  4.330000e+01   \n",
       "\n",
       "              racha  \n",
       "count  2.608458e+06  \n",
       "mean   1.005783e+01  \n",
       "std    4.344823e+00  \n",
       "min    0.000000e+00  \n",
       "5%     4.400000e+00  \n",
       "50%    9.200000e+00  \n",
       "95%    1.830000e+01  \n",
       "max    6.890000e+01  "
      ]
     },
     "execution_count": 8,
     "metadata": {},
     "output_type": "execute_result"
    }
   ],
   "source": [
    "df.describe(percentiles=[0.05, 0.95])"
   ]
  },
  {
   "cell_type": "markdown",
   "metadata": {
    "tags": []
   },
   "source": [
    "Guardamos el conjunto de datos VCDE"
   ]
  },
  {
   "cell_type": "code",
   "execution_count": 13,
   "metadata": {},
   "outputs": [],
   "source": [
    "df.to_csv('data/VCDE_003.csv', sep='|')"
   ]
  },
  {
   "cell_type": "code",
   "execution_count": null,
   "metadata": {},
   "outputs": [],
   "source": []
  }
 ],
 "metadata": {
  "kernelspec": {
   "display_name": "Python 3 (ipykernel)",
   "language": "python",
   "name": "python3"
  },
  "language_info": {
   "codemirror_mode": {
    "name": "ipython",
    "version": 3
   },
   "file_extension": ".py",
   "mimetype": "text/x-python",
   "name": "python",
   "nbconvert_exporter": "python",
   "pygments_lexer": "ipython3",
   "version": "3.10.4"
  }
 },
 "nbformat": 4,
 "nbformat_minor": 4
}
